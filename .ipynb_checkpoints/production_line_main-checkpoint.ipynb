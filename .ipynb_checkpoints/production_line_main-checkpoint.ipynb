{
 "cells": [
  {
   "cell_type": "code",
   "execution_count": 1,
   "id": "0034323e-1699-477a-8f6b-379a1947d412",
   "metadata": {},
   "outputs": [],
   "source": [
    "import json\n",
    "import math\n",
    "import random\n",
    "random.seed(42)\n",
    "import typing\n",
    "\n",
    "from arm import Arm\n",
    "from production_line import Box, Lidar, Production_Line"
   ]
  },
  {
   "cell_type": "code",
   "execution_count": 3,
   "id": "6d2cbe68-75a0-485f-9feb-f0b89bcd04c9",
   "metadata": {},
   "outputs": [],
   "source": [
    "with open('configs/production_line_config.json', 'r') as f:\n",
    "    temp = f.readline()\n",
    "    pl_config = json.loads(temp)"
   ]
  },
  {
   "cell_type": "code",
   "execution_count": 4,
   "id": "2043594a-3725-4ded-93aa-826c2b364702",
   "metadata": {},
   "outputs": [],
   "source": [
    "with open('configs/arm_config.json', 'r') as f:\n",
    "    temp = f.readline()\n",
    "    arm_config = json.loads(temp)"
   ]
  },
  {
   "cell_type": "code",
   "execution_count": 5,
   "id": "983a60bc-d96b-49de-ad36-ffc76d0efdab",
   "metadata": {},
   "outputs": [],
   "source": [
    "BOX_SIDE_LENGTH = pl_config['BOX_SIDE_LENGTH']\n",
    "PRODUCTION_LINE_LENGTH = pl_config['PRODUCTION_LINE_LENGTH']\n",
    "VELOCITY = pl_config['VELOCITY']"
   ]
  },
  {
   "cell_type": "code",
   "execution_count": 6,
   "id": "93662406-5285-4b29-95c2-2af6fc12c8d7",
   "metadata": {},
   "outputs": [],
   "source": [
    "ARM_1_RANGE = arm_config['ARM_1_RANGE']\n",
    "ARM_2_RANGE = arm_config['ARM_2_RANGE']\n",
    "MAX_VARIABLE_ARM_LENGTH_UNIT = arm_config['MAX_VARIABLE_ARM_LENGTH_UNIT']\n",
    "MAX_VARIABLE_ANGLE_UNIT = arm_config['MAX_VARIABLE_ANGLE_UNIT']\n",
    "MIN_ARM_ZOOM_LENGTH = arm_config['MIN_ARM_ZOOM_LENGTH']\n",
    "MIN_ANGLE_DEGREE = arm_config['MIN_ANGLE_DEGREE']\n",
    "REWARD_DISCOUNT_FACTOR = arm_config['REWARD_DISCOUNT_FACTOR']\n",
    "TERMINATION_CONDITION = arm_config['TERMINATION_CONDITION']"
   ]
  },
  {
   "cell_type": "code",
   "execution_count": 7,
   "id": "21561539-c4ed-4262-87bf-cc0da28037ec",
   "metadata": {},
   "outputs": [],
   "source": [
    "pl_1 = Production_Line(length=PRODUCTION_LINE_LENGTH, velocity=VELOCITY, box_side_length=BOX_SIDE_LENGTH)\n",
    "pl_2 = Production_Line(length=PRODUCTION_LINE_LENGTH, velocity=VELOCITY, box_side_length=BOX_SIDE_LENGTH)"
   ]
  },
  {
   "cell_type": "code",
   "execution_count": 8,
   "id": "950d72c5-b5ef-4709-832d-a3ae5adad7da",
   "metadata": {},
   "outputs": [],
   "source": [
    "head_lidar = Lidar(place=BOX_SIDE_LENGTH)\n",
    "tail_lidar = Lidar(place=PRODUCTION_LINE_LENGTH)\n",
    "\n",
    "pl_1.add_lidar(head_lidar)\n",
    "pl_1.add_lidar(tail_lidar)"
   ]
  },
  {
   "cell_type": "code",
   "execution_count": 9,
   "id": "b8c7750b-249b-4bb1-922f-7f4029096397",
   "metadata": {},
   "outputs": [],
   "source": [
    "head_lidar = Lidar(place=BOX_SIDE_LENGTH)\n",
    "tail_lidar = Lidar(place=PRODUCTION_LINE_LENGTH)\n",
    "\n",
    "pl_2.add_lidar(head_lidar)\n",
    "pl_2.add_lidar(tail_lidar)"
   ]
  },
  {
   "cell_type": "code",
   "execution_count": 10,
   "id": "18fb55f7-d575-4058-9f97-dc3b56f7bb73",
   "metadata": {
    "scrolled": true
   },
   "outputs": [],
   "source": [
    "for _ in range(50):\n",
    "    if pl_1.head_lidar_signal == False:\n",
    "        box = Box(box_side_length=BOX_SIDE_LENGTH)\n",
    "        pl_1.add_box(box)\n",
    "    if pl_1.tail_lidar_signal == True and pl_2.head_lidar_signal == False:\n",
    "        box = pl_1.remove_last_box()\n",
    "        # arm\n",
    "        # If the arm moves the box to the second destination in one unit of time, then pl_2 gets the box.\n",
    "        pl_2.add_box(box)\n",
    "    if pl_1.tail_lidar_signal == False:\n",
    "        pl_1.shift()\n",
    "    if pl_2.tail_lidar_signal == False:\n",
    "        pl_2.shift()\n",
    "    else:\n",
    "        box = pl_2.remove_last_box()"
   ]
  }
 ],
 "metadata": {
  "kernelspec": {
   "display_name": "practice",
   "language": "python",
   "name": "practice"
  },
  "language_info": {
   "codemirror_mode": {
    "name": "ipython",
    "version": 3
   },
   "file_extension": ".py",
   "mimetype": "text/x-python",
   "name": "python",
   "nbconvert_exporter": "python",
   "pygments_lexer": "ipython3",
   "version": "3.12.3"
  }
 },
 "nbformat": 4,
 "nbformat_minor": 5
}
