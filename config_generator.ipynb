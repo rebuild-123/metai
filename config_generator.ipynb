{
 "cells": [
  {
   "cell_type": "code",
   "execution_count": 11,
   "id": "52b89779-d6cb-46eb-ad48-b721e077f9d8",
   "metadata": {},
   "outputs": [],
   "source": [
    "import json"
   ]
  },
  {
   "cell_type": "code",
   "execution_count": 12,
   "id": "9e346dfc-0edb-46eb-86c1-9b1589d82011",
   "metadata": {},
   "outputs": [],
   "source": [
    "production_line_config = {\n",
    "    'BOX_SIDE_LENGTH': 1.3,\n",
    "    'PRODUCTION_LINE_LENGTH': 11.7,\n",
    "    'VELOCITY': 0.7,\n",
    "}"
   ]
  },
  {
   "cell_type": "code",
   "execution_count": 13,
   "id": "63cbc3f0-4e8d-47f2-9c30-4804df427780",
   "metadata": {},
   "outputs": [],
   "source": [
    "arm_config = {\n",
    "    'ARM_1_RANGE': [3, 7], 'ARM_2_RANGE': [4, 9],\n",
    "    'MAX_VARIABLE_ARM_LENGTH_UNIT': 8, 'MAX_VARIABLE_ANGLE_UNIT': 5,\n",
    "    'MIN_ARM_ZOOM_LENGTH': 0.3, 'MIN_ANGLE_DEGREE': 0.7,\n",
    "    'REWARD_DISCOUNT_FACTOR': 1.0, 'TERMINATION_CONDITION': 0.02,\n",
    "}"
   ]
  },
  {
   "cell_type": "code",
   "execution_count": 14,
   "id": "948d9d37-42c0-4faf-9be6-03a13aba2e2e",
   "metadata": {},
   "outputs": [],
   "source": [
    "with open('configs/production_line_config.json', 'w') as f:\n",
    "    json.dump(production_line_config, f)"
   ]
  },
  {
   "cell_type": "code",
   "execution_count": 15,
   "id": "53a1a886-ac5e-4a4c-b211-08d495b77b56",
   "metadata": {},
   "outputs": [],
   "source": [
    "with open('configs/arm_config.json', 'w') as f:\n",
    "    json.dump(arm_config, f)"
   ]
  },
  {
   "cell_type": "code",
   "execution_count": null,
   "id": "9c6e1eb3-adde-42e4-8ffc-127201baaeb9",
   "metadata": {},
   "outputs": [],
   "source": []
  },
  {
   "cell_type": "code",
   "execution_count": null,
   "id": "6dcd671d-5da1-4524-ab62-62748248327d",
   "metadata": {},
   "outputs": [],
   "source": []
  }
 ],
 "metadata": {
  "kernelspec": {
   "display_name": "practice",
   "language": "python",
   "name": "practice"
  },
  "language_info": {
   "codemirror_mode": {
    "name": "ipython",
    "version": 3
   },
   "file_extension": ".py",
   "mimetype": "text/x-python",
   "name": "python",
   "nbconvert_exporter": "python",
   "pygments_lexer": "ipython3",
   "version": "3.12.3"
  }
 },
 "nbformat": 4,
 "nbformat_minor": 5
}
