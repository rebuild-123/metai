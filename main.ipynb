{
 "cells": [
  {
   "cell_type": "code",
   "execution_count": 1,
   "id": "63305cfc-7cbc-439b-8ad9-1d18872364cb",
   "metadata": {},
   "outputs": [],
   "source": [
    "import random\n",
    "random.seed(42)"
   ]
  },
  {
   "cell_type": "code",
   "execution_count": 2,
   "id": "0034323e-1699-477a-8f6b-379a1947d412",
   "metadata": {},
   "outputs": [],
   "source": [
    "import json\n",
    "import math\n",
    "import typing\n",
    "\n",
    "import gym\n",
    "import numpy as np\n",
    "from stable_baselines3 import A2C\n",
    "\n",
    "from arm import Arm, generate_random_action\n",
    "# from production_line import Box"
   ]
  },
  {
   "cell_type": "code",
   "execution_count": 3,
   "id": "2043594a-3725-4ded-93aa-826c2b364702",
   "metadata": {},
   "outputs": [],
   "source": [
    "with open('configs/arm_config.json', 'r') as f:\n",
    "    temp = f.readline()\n",
    "    arm_config = json.loads(temp)"
   ]
  },
  {
   "cell_type": "code",
   "execution_count": 4,
   "id": "93662406-5285-4b29-95c2-2af6fc12c8d7",
   "metadata": {},
   "outputs": [],
   "source": [
    "ARM_1_RANGE = arm_config['ARM_1_RANGE']\n",
    "ARM_2_RANGE = arm_config['ARM_2_RANGE']\n",
    "MAX_VARIABLE_ARM_LENGTH_UNIT = arm_config['MAX_VARIABLE_ARM_LENGTH_UNIT']\n",
    "MAX_VARIABLE_ANGLE_UNIT = arm_config['MAX_VARIABLE_ANGLE_UNIT']\n",
    "MIN_ARM_ZOOM_LENGTH = arm_config['MIN_ARM_ZOOM_LENGTH']\n",
    "MIN_ANGLE_DEGREE = arm_config['MIN_ANGLE_DEGREE']\n",
    "REWARD_DISCOUNT_FACTOR = arm_config['REWARD_DISCOUNT_FACTOR']\n",
    "TERMINATION_CONDITION = arm_config['TERMINATION_CONDITION']"
   ]
  },
  {
   "cell_type": "code",
   "execution_count": 5,
   "id": "4f83ad53-e58e-40c4-b7fa-6c7f54e3dd51",
   "metadata": {},
   "outputs": [],
   "source": [
    "arm = Arm(\n",
    "    arm_1_range=ARM_1_RANGE, arm_2_range=ARM_2_RANGE, \n",
    "    min_arm_zoom_length=MIN_ARM_ZOOM_LENGTH, min_angle_degree=MIN_ANGLE_DEGREE,\n",
    "    max_variable_arm_length_unit=MAX_VARIABLE_ARM_LENGTH_UNIT, max_variable_angle_unit=MAX_VARIABLE_ANGLE_UNIT,\n",
    "    reward_discount_factor=REWARD_DISCOUNT_FACTOR, termination_condition=TERMINATION_CONDITION,\n",
    ")"
   ]
  },
  {
   "cell_type": "code",
   "execution_count": 1,
   "id": "ae03a534-f230-492b-aa77-7f16b77fcbfe",
   "metadata": {
    "scrolled": true
   },
   "outputs": [],
   "source": [
    "env = arm\n",
    "\n",
    "model = A2C(\"MultiInputPolicy\", env, verbose=1)\n",
    "model.learn(total_timesteps=10000, log_interval=4)\n",
    "obs = env.reset()\n",
    "total_rewards = []\n",
    "rewards = []\n",
    "for _ in range(1000):\n",
    "    action, _states = model.predict(obs)\n",
    "    obs, reward, done, info = env.step(action)\n",
    "    rewards.append(reward)\n",
    "    if done == True:\n",
    "        obs = env.reset()\n",
    "        total_rewards.append(rewards)\n",
    "        rewards = []\n",
    "total_rewards.append(rewards)"
   ]
  },
  {
   "cell_type": "code",
   "execution_count": null,
   "id": "c81d9bec-0e7d-44e0-9bf1-da2321bf8fe9",
   "metadata": {},
   "outputs": [],
   "source": []
  }
 ],
 "metadata": {
  "kernelspec": {
   "display_name": "python3_10",
   "language": "python",
   "name": "python3_10"
  },
  "language_info": {
   "codemirror_mode": {
    "name": "ipython",
    "version": 3
   },
   "file_extension": ".py",
   "mimetype": "text/x-python",
   "name": "python",
   "nbconvert_exporter": "python",
   "pygments_lexer": "ipython3",
   "version": "3.10.14"
  }
 },
 "nbformat": 4,
 "nbformat_minor": 5
}
