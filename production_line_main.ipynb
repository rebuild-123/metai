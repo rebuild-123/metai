{
 "cells": [
  {
   "cell_type": "code",
   "execution_count": 1,
   "id": "0034323e-1699-477a-8f6b-379a1947d412",
   "metadata": {},
   "outputs": [],
   "source": [
    "import json\n",
    "import math\n",
    "import random\n",
    "random.seed(42)\n",
    "import typing\n",
    "\n",
    "from arm import Arm\n",
    "from production_line import Box, Lidar, Production_Line"
   ]
  },
  {
   "cell_type": "code",
   "execution_count": 3,
   "id": "6d2cbe68-75a0-485f-9feb-f0b89bcd04c9",
   "metadata": {},
   "outputs": [],
   "source": [
    "with open('configs/production_line_config.json', 'r') as f:\n",
    "    temp = f.readline()\n",
    "    pl_config = json.loads(temp)"
   ]
  },
  {
   "cell_type": "code",
   "execution_count": 4,
   "id": "2043594a-3725-4ded-93aa-826c2b364702",
   "metadata": {},
   "outputs": [],
   "source": [
    "with open('configs/arm_config.json', 'r') as f:\n",
    "    temp = f.readline()\n",
    "    arm_config = json.loads(temp)"
   ]
  },
  {
   "cell_type": "code",
   "execution_count": 5,
   "id": "983a60bc-d96b-49de-ad36-ffc76d0efdab",
   "metadata": {},
   "outputs": [],
   "source": [
    "BOX_SIDE_LENGTH = pl_config['BOX_SIDE_LENGTH']\n",
    "PRODUCTION_LINE_LENGTH = pl_config['PRODUCTION_LINE_LENGTH']\n",
    "VELOCITY = pl_config['VELOCITY']"
   ]
  },
  {
   "cell_type": "code",
   "execution_count": 6,
   "id": "93662406-5285-4b29-95c2-2af6fc12c8d7",
   "metadata": {},
   "outputs": [],
   "source": [
    "ARM_1_RANGE = arm_config['ARM_1_RANGE']\n",
    "ARM_2_RANGE = arm_config['ARM_2_RANGE']\n",
    "MAX_VARIABLE_ARM_LENGTH_UNIT = arm_config['MAX_VARIABLE_ARM_LENGTH_UNIT']\n",
    "MAX_VARIABLE_ANGLE_UNIT = arm_config['MAX_VARIABLE_ANGLE_UNIT']\n",
    "MIN_ARM_ZOOM_LENGTH = arm_config['MIN_ARM_ZOOM_LENGTH']\n",
    "MIN_ANGLE_DEGREE = arm_config['MIN_ANGLE_DEGREE']\n",
    "REWARD_DISCOUNT_FACTOR = arm_config['REWARD_DISCOUNT_FACTOR']\n",
    "TERMINATION_CONDITION = arm_config['TERMINATION_CONDITION']"
   ]
  },
  {
   "cell_type": "code",
   "execution_count": 7,
   "id": "21561539-c4ed-4262-87bf-cc0da28037ec",
   "metadata": {},
   "outputs": [],
   "source": [
    "pl_1 = Production_Line(length=PRODUCTION_LINE_LENGTH, velocity=VELOCITY, box_side_length=BOX_SIDE_LENGTH)\n",
    "pl_2 = Production_Line(length=PRODUCTION_LINE_LENGTH, velocity=VELOCITY, box_side_length=BOX_SIDE_LENGTH)"
   ]
  },
  {
   "cell_type": "code",
   "execution_count": 8,
   "id": "950d72c5-b5ef-4709-832d-a3ae5adad7da",
   "metadata": {},
   "outputs": [],
   "source": [
    "head_lidar = Lidar(place=BOX_SIDE_LENGTH)\n",
    "tail_lidar = Lidar(place=PRODUCTION_LINE_LENGTH)\n",
    "\n",
    "pl_1.add_lidar(head_lidar)\n",
    "pl_1.add_lidar(tail_lidar)"
   ]
  },
  {
   "cell_type": "code",
   "execution_count": 9,
   "id": "b8c7750b-249b-4bb1-922f-7f4029096397",
   "metadata": {},
   "outputs": [],
   "source": [
    "head_lidar = Lidar(place=BOX_SIDE_LENGTH)\n",
    "tail_lidar = Lidar(place=PRODUCTION_LINE_LENGTH)\n",
    "\n",
    "pl_2.add_lidar(head_lidar)\n",
    "pl_2.add_lidar(tail_lidar)"
   ]
  },
  {
   "cell_type": "code",
   "execution_count": 10,
   "id": "18fb55f7-d575-4058-9f97-dc3b56f7bb73",
   "metadata": {
    "scrolled": true
   },
   "outputs": [],
   "source": [
    "for _ in range(50):\n",
    "    if pl_1.head_lidar_signal == False:\n",
    "        box = Box(box_side_length=BOX_SIDE_LENGTH)\n",
    "        pl_1.add_box(box)\n",
    "    if pl_1.tail_lidar_signal == True and pl_2.head_lidar_signal == False:\n",
    "        box = pl_1.remove_last_box()\n",
    "        # arm\n",
    "        # If the arm moves the box to the second destination in one unit of time, then pl_2 gets the box.\n",
    "        pl_2.add_box(box)\n",
    "    if pl_1.tail_lidar_signal == False:\n",
    "        pl_1.shift()\n",
    "    if pl_2.tail_lidar_signal == False:\n",
    "        pl_2.shift()\n",
    "    else:\n",
    "        box = pl_2.remove_last_box()"
   ]
  },
  {
   "cell_type": "code",
   "execution_count": null,
   "id": "3454c638-bf6b-4382-a517-37ebad50a4d5",
   "metadata": {},
   "outputs": [],
   "source": []
  },
  {
   "cell_type": "code",
   "execution_count": 11,
   "id": "4f83ad53-e58e-40c4-b7fa-6c7f54e3dd51",
   "metadata": {},
   "outputs": [],
   "source": [
    "arm = Arm(\n",
    "    arm_1_range=ARM_1_RANGE, arm_2_range=ARM_2_RANGE, \n",
    "    min_arm_zoom_length=MIN_ARM_ZOOM_LENGTH, min_angle_degree=MIN_ANGLE_DEGREE,\n",
    "    max_variable_arm_length_unit=MAX_VARIABLE_ARM_LENGTH_UNIT, max_variable_angle_unit=MAX_VARIABLE_ANGLE_UNIT,\n",
    "    reward_discount_factor=REWARD_DISCOUNT_FACTOR, termination_condition=TERMINATION_CONDITION,\n",
    ")"
   ]
  },
  {
   "cell_type": "code",
   "execution_count": 12,
   "id": "4e9a8a24-8e30-4f09-b2d4-64e7156c942d",
   "metadata": {
    "scrolled": true
   },
   "outputs": [],
   "source": [
    "obs = arm.reset()"
   ]
  },
  {
   "cell_type": "code",
   "execution_count": 13,
   "id": "ba536911-21d5-474d-8bd8-37f2ef9d2bed",
   "metadata": {},
   "outputs": [],
   "source": [
    "action = arm.generate_random_action()"
   ]
  },
  {
   "cell_type": "code",
   "execution_count": 14,
   "id": "a999ff47-d688-497b-9ce4-6ed28601fe7e",
   "metadata": {},
   "outputs": [],
   "source": [
    "obs, reward, done = arm.step(action=action)"
   ]
  },
  {
   "cell_type": "code",
   "execution_count": 15,
   "id": "234f9ffd-10b0-4a56-b87f-cf851db738a1",
   "metadata": {},
   "outputs": [
    {
     "data": {
      "text/plain": [
       "{'arm_1_length': 7.2,\n",
       " 'arm_2_length': 4.0,\n",
       " 'angle_1_degree': 98.69999999999999,\n",
       " 'angle_2_degree': 79.8,\n",
       " 'position': {'x': -0.5954809397805518,\n",
       "  'y': 3.891485367606205,\n",
       "  'z': 6.491661038721666},\n",
       " 'targe': {'x': 2.88841080311338,\n",
       "  'y': -2.3725673819262605,\n",
       "  'z': -0.5704072475938506}}"
      ]
     },
     "execution_count": 15,
     "metadata": {},
     "output_type": "execute_result"
    }
   ],
   "source": [
    "obs"
   ]
  }
 ],
 "metadata": {
  "kernelspec": {
   "display_name": "practice",
   "language": "python",
   "name": "practice"
  },
  "language_info": {
   "codemirror_mode": {
    "name": "ipython",
    "version": 3
   },
   "file_extension": ".py",
   "mimetype": "text/x-python",
   "name": "python",
   "nbconvert_exporter": "python",
   "pygments_lexer": "ipython3",
   "version": "3.12.5"
  }
 },
 "nbformat": 4,
 "nbformat_minor": 5
}
